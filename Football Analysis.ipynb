{
 "cells": [
  {
   "cell_type": "code",
   "execution_count": 1,
   "metadata": {},
   "outputs": [],
   "source": [
    "import pandas as pd\n",
    "import numpy as np"
   ]
  },
  {
   "cell_type": "markdown",
   "metadata": {},
   "source": [
    "### Import CSV File"
   ]
  },
  {
   "cell_type": "code",
   "execution_count": 2,
   "metadata": {},
   "outputs": [],
   "source": [
    "path = 'C:/Users/anhqu/Downloads/season-1819_csv.csv'"
   ]
  },
  {
   "cell_type": "code",
   "execution_count": 3,
   "metadata": {},
   "outputs": [],
   "source": [
    "df = pd.read_csv(path)"
   ]
  },
  {
   "cell_type": "code",
   "execution_count": 4,
   "metadata": {
    "scrolled": true
   },
   "outputs": [
    {
     "data": {
      "text/html": [
       "<div>\n",
       "<style scoped>\n",
       "    .dataframe tbody tr th:only-of-type {\n",
       "        vertical-align: middle;\n",
       "    }\n",
       "\n",
       "    .dataframe tbody tr th {\n",
       "        vertical-align: top;\n",
       "    }\n",
       "\n",
       "    .dataframe thead th {\n",
       "        text-align: right;\n",
       "    }\n",
       "</style>\n",
       "<table border=\"1\" class=\"dataframe\">\n",
       "  <thead>\n",
       "    <tr style=\"text-align: right;\">\n",
       "      <th></th>\n",
       "      <th>Div</th>\n",
       "      <th>Date</th>\n",
       "      <th>HomeTeam</th>\n",
       "      <th>AwayTeam</th>\n",
       "      <th>FTHG</th>\n",
       "      <th>FTAG</th>\n",
       "      <th>FTR</th>\n",
       "      <th>HTHG</th>\n",
       "      <th>HTAG</th>\n",
       "      <th>HTR</th>\n",
       "      <th>...</th>\n",
       "      <th>AF</th>\n",
       "      <th>HC</th>\n",
       "      <th>AC</th>\n",
       "      <th>HY</th>\n",
       "      <th>AY</th>\n",
       "      <th>HR</th>\n",
       "      <th>AR</th>\n",
       "      <th>B365H</th>\n",
       "      <th>B365D</th>\n",
       "      <th>B365A</th>\n",
       "    </tr>\n",
       "  </thead>\n",
       "  <tbody>\n",
       "    <tr>\n",
       "      <th>0</th>\n",
       "      <td>SP1</td>\n",
       "      <td>17/08/2018</td>\n",
       "      <td>Betis</td>\n",
       "      <td>Levante</td>\n",
       "      <td>0</td>\n",
       "      <td>3</td>\n",
       "      <td>A</td>\n",
       "      <td>0</td>\n",
       "      <td>1</td>\n",
       "      <td>A</td>\n",
       "      <td>...</td>\n",
       "      <td>10</td>\n",
       "      <td>5</td>\n",
       "      <td>3</td>\n",
       "      <td>0</td>\n",
       "      <td>2</td>\n",
       "      <td>0</td>\n",
       "      <td>0</td>\n",
       "      <td>1.66</td>\n",
       "      <td>4.0</td>\n",
       "      <td>5.0</td>\n",
       "    </tr>\n",
       "    <tr>\n",
       "      <th>1</th>\n",
       "      <td>SP1</td>\n",
       "      <td>17/08/2018</td>\n",
       "      <td>Girona</td>\n",
       "      <td>Valladolid</td>\n",
       "      <td>0</td>\n",
       "      <td>0</td>\n",
       "      <td>D</td>\n",
       "      <td>0</td>\n",
       "      <td>0</td>\n",
       "      <td>D</td>\n",
       "      <td>...</td>\n",
       "      <td>20</td>\n",
       "      <td>3</td>\n",
       "      <td>2</td>\n",
       "      <td>1</td>\n",
       "      <td>1</td>\n",
       "      <td>0</td>\n",
       "      <td>0</td>\n",
       "      <td>1.75</td>\n",
       "      <td>3.6</td>\n",
       "      <td>5.0</td>\n",
       "    </tr>\n",
       "    <tr>\n",
       "      <th>2</th>\n",
       "      <td>SP1</td>\n",
       "      <td>18/08/2018</td>\n",
       "      <td>Barcelona</td>\n",
       "      <td>Alaves</td>\n",
       "      <td>3</td>\n",
       "      <td>0</td>\n",
       "      <td>H</td>\n",
       "      <td>0</td>\n",
       "      <td>0</td>\n",
       "      <td>D</td>\n",
       "      <td>...</td>\n",
       "      <td>13</td>\n",
       "      <td>7</td>\n",
       "      <td>1</td>\n",
       "      <td>0</td>\n",
       "      <td>2</td>\n",
       "      <td>0</td>\n",
       "      <td>0</td>\n",
       "      <td>1.11</td>\n",
       "      <td>10.0</td>\n",
       "      <td>21.0</td>\n",
       "    </tr>\n",
       "    <tr>\n",
       "      <th>3</th>\n",
       "      <td>SP1</td>\n",
       "      <td>18/08/2018</td>\n",
       "      <td>Celta</td>\n",
       "      <td>Espanol</td>\n",
       "      <td>1</td>\n",
       "      <td>1</td>\n",
       "      <td>D</td>\n",
       "      <td>0</td>\n",
       "      <td>1</td>\n",
       "      <td>A</td>\n",
       "      <td>...</td>\n",
       "      <td>14</td>\n",
       "      <td>8</td>\n",
       "      <td>7</td>\n",
       "      <td>3</td>\n",
       "      <td>2</td>\n",
       "      <td>0</td>\n",
       "      <td>0</td>\n",
       "      <td>1.85</td>\n",
       "      <td>3.5</td>\n",
       "      <td>4.5</td>\n",
       "    </tr>\n",
       "    <tr>\n",
       "      <th>4</th>\n",
       "      <td>SP1</td>\n",
       "      <td>18/08/2018</td>\n",
       "      <td>Villarreal</td>\n",
       "      <td>Sociedad</td>\n",
       "      <td>1</td>\n",
       "      <td>2</td>\n",
       "      <td>A</td>\n",
       "      <td>1</td>\n",
       "      <td>1</td>\n",
       "      <td>D</td>\n",
       "      <td>...</td>\n",
       "      <td>10</td>\n",
       "      <td>4</td>\n",
       "      <td>6</td>\n",
       "      <td>2</td>\n",
       "      <td>3</td>\n",
       "      <td>0</td>\n",
       "      <td>0</td>\n",
       "      <td>2.04</td>\n",
       "      <td>3.4</td>\n",
       "      <td>3.8</td>\n",
       "    </tr>\n",
       "  </tbody>\n",
       "</table>\n",
       "<p>5 rows × 25 columns</p>\n",
       "</div>"
      ],
      "text/plain": [
       "   Div        Date    HomeTeam    AwayTeam  FTHG  FTAG FTR  HTHG  HTAG HTR  \\\n",
       "0  SP1  17/08/2018       Betis     Levante     0     3   A     0     1   A   \n",
       "1  SP1  17/08/2018      Girona  Valladolid     0     0   D     0     0   D   \n",
       "2  SP1  18/08/2018   Barcelona      Alaves     3     0   H     0     0   D   \n",
       "3  SP1  18/08/2018       Celta     Espanol     1     1   D     0     1   A   \n",
       "4  SP1  18/08/2018  Villarreal    Sociedad     1     2   A     1     1   D   \n",
       "\n",
       "   ...  AF  HC  AC  HY  AY  HR  AR  B365H  B365D  B365A  \n",
       "0  ...  10   5   3   0   2   0   0   1.66    4.0    5.0  \n",
       "1  ...  20   3   2   1   1   0   0   1.75    3.6    5.0  \n",
       "2  ...  13   7   1   0   2   0   0   1.11   10.0   21.0  \n",
       "3  ...  14   8   7   3   2   0   0   1.85    3.5    4.5  \n",
       "4  ...  10   4   6   2   3   0   0   2.04    3.4    3.8  \n",
       "\n",
       "[5 rows x 25 columns]"
      ]
     },
     "execution_count": 4,
     "metadata": {},
     "output_type": "execute_result"
    }
   ],
   "source": [
    "df.head()"
   ]
  },
  {
   "cell_type": "markdown",
   "metadata": {},
   "source": [
    "Data Points Description: http://www.football-data.co.uk/notes.txt"
   ]
  },
  {
   "cell_type": "code",
   "execution_count": 5,
   "metadata": {},
   "outputs": [],
   "source": [
    "df1 = pd.read_csv('C:/Users/anhqu/Downloads/data.csv')"
   ]
  },
  {
   "cell_type": "code",
   "execution_count": 6,
   "metadata": {},
   "outputs": [
    {
     "data": {
      "text/plain": [
       "Index(['Unnamed: 0', 'ID', 'Name', 'Age', 'Photo', 'Nationality', 'Flag',\n",
       "       'Overall', 'Potential', 'Club', 'Club Logo', 'Value', 'Wage', 'Special',\n",
       "       'Preferred Foot', 'International Reputation', 'Weak Foot',\n",
       "       'Skill Moves', 'Work Rate', 'Body Type', 'Real Face', 'Position',\n",
       "       'Jersey Number', 'Joined', 'Loaned From', 'Contract Valid Until',\n",
       "       'Height', 'Weight', 'LS', 'ST', 'RS', 'LW', 'LF', 'CF', 'RF', 'RW',\n",
       "       'LAM', 'CAM', 'RAM', 'LM', 'LCM', 'CM', 'RCM', 'RM', 'LWB', 'LDM',\n",
       "       'CDM', 'RDM', 'RWB', 'LB', 'LCB', 'CB', 'RCB', 'RB', 'Crossing',\n",
       "       'Finishing', 'HeadingAccuracy', 'ShortPassing', 'Volleys', 'Dribbling',\n",
       "       'Curve', 'FKAccuracy', 'LongPassing', 'BallControl', 'Acceleration',\n",
       "       'SprintSpeed', 'Agility', 'Reactions', 'Balance', 'ShotPower',\n",
       "       'Jumping', 'Stamina', 'Strength', 'LongShots', 'Aggression',\n",
       "       'Interceptions', 'Positioning', 'Vision', 'Penalties', 'Composure',\n",
       "       'Marking', 'StandingTackle', 'SlidingTackle', 'GKDiving', 'GKHandling',\n",
       "       'GKKicking', 'GKPositioning', 'GKReflexes', 'Release Clause'],\n",
       "      dtype='object')"
      ]
     },
     "execution_count": 6,
     "metadata": {},
     "output_type": "execute_result"
    }
   ],
   "source": [
    "df1.columns"
   ]
  },
  {
   "cell_type": "code",
   "execution_count": 7,
   "metadata": {
    "scrolled": true
   },
   "outputs": [
    {
     "data": {
      "text/html": [
       "<div>\n",
       "<style scoped>\n",
       "    .dataframe tbody tr th:only-of-type {\n",
       "        vertical-align: middle;\n",
       "    }\n",
       "\n",
       "    .dataframe tbody tr th {\n",
       "        vertical-align: top;\n",
       "    }\n",
       "\n",
       "    .dataframe thead th {\n",
       "        text-align: right;\n",
       "    }\n",
       "</style>\n",
       "<table border=\"1\" class=\"dataframe\">\n",
       "  <thead>\n",
       "    <tr style=\"text-align: right;\">\n",
       "      <th></th>\n",
       "      <th>Unnamed: 0</th>\n",
       "      <th>ID</th>\n",
       "      <th>Name</th>\n",
       "      <th>Age</th>\n",
       "      <th>Photo</th>\n",
       "      <th>Nationality</th>\n",
       "      <th>Flag</th>\n",
       "      <th>Overall</th>\n",
       "      <th>Potential</th>\n",
       "      <th>Club</th>\n",
       "      <th>...</th>\n",
       "      <th>Composure</th>\n",
       "      <th>Marking</th>\n",
       "      <th>StandingTackle</th>\n",
       "      <th>SlidingTackle</th>\n",
       "      <th>GKDiving</th>\n",
       "      <th>GKHandling</th>\n",
       "      <th>GKKicking</th>\n",
       "      <th>GKPositioning</th>\n",
       "      <th>GKReflexes</th>\n",
       "      <th>Release Clause</th>\n",
       "    </tr>\n",
       "  </thead>\n",
       "  <tbody>\n",
       "    <tr>\n",
       "      <th>0</th>\n",
       "      <td>7</td>\n",
       "      <td>176580</td>\n",
       "      <td>L. Suárez</td>\n",
       "      <td>31</td>\n",
       "      <td>https://cdn.sofifa.org/players/4/19/176580.png</td>\n",
       "      <td>Uruguay</td>\n",
       "      <td>https://cdn.sofifa.org/flags/60.png</td>\n",
       "      <td>91</td>\n",
       "      <td>91</td>\n",
       "      <td>FC Barcelona</td>\n",
       "      <td>...</td>\n",
       "      <td>85.0</td>\n",
       "      <td>62.0</td>\n",
       "      <td>45.0</td>\n",
       "      <td>38.0</td>\n",
       "      <td>27.0</td>\n",
       "      <td>25.0</td>\n",
       "      <td>31.0</td>\n",
       "      <td>33.0</td>\n",
       "      <td>37.0</td>\n",
       "      <td>€164M</td>\n",
       "    </tr>\n",
       "    <tr>\n",
       "      <th>1</th>\n",
       "      <td>4</td>\n",
       "      <td>192985</td>\n",
       "      <td>K. De Bruyne</td>\n",
       "      <td>27</td>\n",
       "      <td>https://cdn.sofifa.org/players/4/19/192985.png</td>\n",
       "      <td>Belgium</td>\n",
       "      <td>https://cdn.sofifa.org/flags/7.png</td>\n",
       "      <td>91</td>\n",
       "      <td>92</td>\n",
       "      <td>Manchester City</td>\n",
       "      <td>...</td>\n",
       "      <td>88.0</td>\n",
       "      <td>68.0</td>\n",
       "      <td>58.0</td>\n",
       "      <td>51.0</td>\n",
       "      <td>15.0</td>\n",
       "      <td>13.0</td>\n",
       "      <td>5.0</td>\n",
       "      <td>10.0</td>\n",
       "      <td>13.0</td>\n",
       "      <td>€196.4M</td>\n",
       "    </tr>\n",
       "    <tr>\n",
       "      <th>2</th>\n",
       "      <td>6</td>\n",
       "      <td>177003</td>\n",
       "      <td>L. Modrić</td>\n",
       "      <td>32</td>\n",
       "      <td>https://cdn.sofifa.org/players/4/19/177003.png</td>\n",
       "      <td>Croatia</td>\n",
       "      <td>https://cdn.sofifa.org/flags/10.png</td>\n",
       "      <td>91</td>\n",
       "      <td>91</td>\n",
       "      <td>Real Madrid</td>\n",
       "      <td>...</td>\n",
       "      <td>84.0</td>\n",
       "      <td>60.0</td>\n",
       "      <td>76.0</td>\n",
       "      <td>73.0</td>\n",
       "      <td>13.0</td>\n",
       "      <td>9.0</td>\n",
       "      <td>7.0</td>\n",
       "      <td>14.0</td>\n",
       "      <td>9.0</td>\n",
       "      <td>€137.4M</td>\n",
       "    </tr>\n",
       "    <tr>\n",
       "      <th>3</th>\n",
       "      <td>35</td>\n",
       "      <td>176676</td>\n",
       "      <td>Marcelo</td>\n",
       "      <td>30</td>\n",
       "      <td>https://cdn.sofifa.org/players/4/19/176676.png</td>\n",
       "      <td>Brazil</td>\n",
       "      <td>https://cdn.sofifa.org/flags/54.png</td>\n",
       "      <td>88</td>\n",
       "      <td>88</td>\n",
       "      <td>Real Madrid</td>\n",
       "      <td>...</td>\n",
       "      <td>86.0</td>\n",
       "      <td>71.0</td>\n",
       "      <td>85.0</td>\n",
       "      <td>86.0</td>\n",
       "      <td>12.0</td>\n",
       "      <td>5.0</td>\n",
       "      <td>5.0</td>\n",
       "      <td>5.0</td>\n",
       "      <td>9.0</td>\n",
       "      <td>€88.2M</td>\n",
       "    </tr>\n",
       "    <tr>\n",
       "      <th>4</th>\n",
       "      <td>36</td>\n",
       "      <td>173731</td>\n",
       "      <td>G. Bale</td>\n",
       "      <td>28</td>\n",
       "      <td>https://cdn.sofifa.org/players/4/19/173731.png</td>\n",
       "      <td>Wales</td>\n",
       "      <td>https://cdn.sofifa.org/flags/50.png</td>\n",
       "      <td>88</td>\n",
       "      <td>88</td>\n",
       "      <td>Real Madrid</td>\n",
       "      <td>...</td>\n",
       "      <td>86.0</td>\n",
       "      <td>54.0</td>\n",
       "      <td>55.0</td>\n",
       "      <td>52.0</td>\n",
       "      <td>15.0</td>\n",
       "      <td>15.0</td>\n",
       "      <td>11.0</td>\n",
       "      <td>5.0</td>\n",
       "      <td>6.0</td>\n",
       "      <td>€123M</td>\n",
       "    </tr>\n",
       "  </tbody>\n",
       "</table>\n",
       "<p>5 rows × 89 columns</p>\n",
       "</div>"
      ],
      "text/plain": [
       "   Unnamed: 0      ID          Name  Age  \\\n",
       "0           7  176580     L. Suárez   31   \n",
       "1           4  192985  K. De Bruyne   27   \n",
       "2           6  177003     L. Modrić   32   \n",
       "3          35  176676       Marcelo   30   \n",
       "4          36  173731       G. Bale   28   \n",
       "\n",
       "                                            Photo Nationality  \\\n",
       "0  https://cdn.sofifa.org/players/4/19/176580.png     Uruguay   \n",
       "1  https://cdn.sofifa.org/players/4/19/192985.png     Belgium   \n",
       "2  https://cdn.sofifa.org/players/4/19/177003.png     Croatia   \n",
       "3  https://cdn.sofifa.org/players/4/19/176676.png      Brazil   \n",
       "4  https://cdn.sofifa.org/players/4/19/173731.png       Wales   \n",
       "\n",
       "                                  Flag  Overall  Potential             Club  \\\n",
       "0  https://cdn.sofifa.org/flags/60.png       91         91     FC Barcelona   \n",
       "1   https://cdn.sofifa.org/flags/7.png       91         92  Manchester City   \n",
       "2  https://cdn.sofifa.org/flags/10.png       91         91      Real Madrid   \n",
       "3  https://cdn.sofifa.org/flags/54.png       88         88      Real Madrid   \n",
       "4  https://cdn.sofifa.org/flags/50.png       88         88      Real Madrid   \n",
       "\n",
       "   ... Composure Marking StandingTackle  SlidingTackle GKDiving  GKHandling  \\\n",
       "0  ...      85.0    62.0           45.0           38.0     27.0        25.0   \n",
       "1  ...      88.0    68.0           58.0           51.0     15.0        13.0   \n",
       "2  ...      84.0    60.0           76.0           73.0     13.0         9.0   \n",
       "3  ...      86.0    71.0           85.0           86.0     12.0         5.0   \n",
       "4  ...      86.0    54.0           55.0           52.0     15.0        15.0   \n",
       "\n",
       "   GKKicking  GKPositioning GKReflexes Release Clause  \n",
       "0       31.0           33.0       37.0          €164M  \n",
       "1        5.0           10.0       13.0        €196.4M  \n",
       "2        7.0           14.0        9.0        €137.4M  \n",
       "3        5.0            5.0        9.0         €88.2M  \n",
       "4       11.0            5.0        6.0          €123M  \n",
       "\n",
       "[5 rows x 89 columns]"
      ]
     },
     "execution_count": 7,
     "metadata": {},
     "output_type": "execute_result"
    }
   ],
   "source": [
    "df1.head()"
   ]
  },
  {
   "cell_type": "markdown",
   "metadata": {},
   "source": [
    "Data Source: https://github.com/amanthedorkknight/fifa18-all-player-statistics/blob/master/2019/data.csv"
   ]
  },
  {
   "cell_type": "markdown",
   "metadata": {},
   "source": [
    "# 2 ways to Import CSV file to SQLite DB"
   ]
  },
  {
   "cell_type": "markdown",
   "metadata": {},
   "source": [
    "## sqlite3 Library"
   ]
  },
  {
   "cell_type": "markdown",
   "metadata": {},
   "source": [
    "##### Import match & betting odds CSV file"
   ]
  },
  {
   "cell_type": "code",
   "execution_count": 8,
   "metadata": {},
   "outputs": [],
   "source": [
    "import sqlite3\n",
    "import csv\n",
    "\n",
    "conn = sqlite3.connect('football.db')\n",
    "cursor = conn.cursor()"
   ]
  },
  {
   "cell_type": "code",
   "execution_count": 9,
   "metadata": {},
   "outputs": [
    {
     "data": {
      "text/plain": [
       "<sqlite3.Cursor at 0x190a9cf9570>"
      ]
     },
     "execution_count": 9,
     "metadata": {},
     "output_type": "execute_result"
    }
   ],
   "source": [
    "cursor.execute('CREATE TABLE IF NOT EXISTS match (\\\n",
    "                Div TEXT, \\\n",
    "                Date DATE, \\\n",
    "                HomeTeam TEXT, \\\n",
    "                AwayTeam TEXT, \\\n",
    "                FTHG INTEGER, \\\n",
    "                FTAG INTEGER, \\\n",
    "                FTR TEXT, \\\n",
    "                HTHG INTEGER, \\\n",
    "                HTAG INTEGER, \\\n",
    "                HTR TEXT, \\\n",
    "                HSh INTEGER, \\\n",
    "                ASh INTEGER, \\\n",
    "                HST INTEGER, \\\n",
    "                AST INTEGER, \\\n",
    "                HF INTEGER, \\\n",
    "                AF INTEGER, \\\n",
    "                HC INTEGER, \\\n",
    "                AC INTEGER, \\\n",
    "                HY INTEGER, \\\n",
    "                AY INTEGER, \\\n",
    "                HR INTEGER, \\\n",
    "                AR INTEGER, \\\n",
    "                B365H REAL, \\\n",
    "                B365D REAL, \\\n",
    "                B365A REAL)')"
   ]
  },
  {
   "cell_type": "code",
   "execution_count": 10,
   "metadata": {},
   "outputs": [],
   "source": [
    "with open(path, 'r') as f:\n",
    "    reader = csv.reader(f)\n",
    "    columns = next(reader)\n",
    "    query = 'INSERT INTO match({0}) values ({1})'\n",
    "    query = query.format(','.join(columns), ','.join('?' * len(columns)))\n",
    "    for data in reader:\n",
    "        cursor.execute(query, data)\n",
    "    conn.commit()"
   ]
  },
  {
   "cell_type": "markdown",
   "metadata": {},
   "source": [
    "## pandas and sqlalchemy Library"
   ]
  },
  {
   "cell_type": "markdown",
   "metadata": {},
   "source": [
    "##### Import Player Stats CSV file"
   ]
  },
  {
   "cell_type": "code",
   "execution_count": 11,
   "metadata": {},
   "outputs": [],
   "source": [
    "from sqlalchemy import create_engine\n",
    "from sqlalchemy import Table, Column, Integer, String, MetaData, ForeignKey\n",
    "from sqlalchemy import inspect"
   ]
  },
  {
   "cell_type": "code",
   "execution_count": 12,
   "metadata": {},
   "outputs": [
    {
     "name": "stderr",
     "output_type": "stream",
     "text": [
      "C:\\Users\\anhqu\\Anaconda3\\lib\\site-packages\\pandas\\core\\generic.py:2531: UserWarning: The spaces in these column names will not be changed. In pandas versions < 0.14, spaces were converted to underscores.\n",
      "  dtype=dtype, method=method)\n"
     ]
    }
   ],
   "source": [
    "df1.to_sql('playerstats', con=conn, if_exists='replace', index=False)\n",
    "conn.execute(\"SELECT * FROM playerstats\").fetchall()\n",
    "conn.commit()"
   ]
  },
  {
   "cell_type": "markdown",
   "metadata": {},
   "source": [
    "# Queries"
   ]
  },
  {
   "cell_type": "code",
   "execution_count": 37,
   "metadata": {},
   "outputs": [],
   "source": [
    "fav_team = \"'Real Madrid'\""
   ]
  },
  {
   "cell_type": "markdown",
   "metadata": {},
   "source": [
    "## What  is the Team's Win Percentage in 18/19 Season?"
   ]
  },
  {
   "cell_type": "code",
   "execution_count": 38,
   "metadata": {
    "scrolled": true
   },
   "outputs": [],
   "source": [
    "total_match = pd.read_sql_query(\n",
    "                    \"SELECT COUNT(*) AS count FROM match \\\n",
    "                    WHERE HomeTeam = \" + fav_team + \" OR AwayTeam = \" + fav_team, \n",
    "                    conn)"
   ]
  },
  {
   "cell_type": "code",
   "execution_count": 39,
   "metadata": {},
   "outputs": [],
   "source": [
    "win_match = pd.read_sql_query(\n",
    "                \"SELECT COUNT(*) AS count FROM match \\\n",
    "                WHERE (HomeTeam = \" + fav_team + \" AND FTR = 'H') \\\n",
    "                OR (AwayTeam = \" + fav_team + \" AND FTR = 'A')\", \n",
    "                conn)"
   ]
  },
  {
   "cell_type": "code",
   "execution_count": 40,
   "metadata": {},
   "outputs": [
    {
     "name": "stdout",
     "output_type": "stream",
     "text": [
      "Number of RM matches: \n",
      "38\n",
      "Number of RM won matches: \n",
      "21\n",
      "% Win Matches: \n",
      "55.26\n"
     ]
    }
   ],
   "source": [
    "print('Number of RM matches: ')\n",
    "print(total_match.iloc[0,0])\n",
    "print('Number of RM won matches: ')\n",
    "print(win_match.iloc[0,0])\n",
    "print('% Win Matches: ')\n",
    "print(round(win_match.iloc[0,0] / total_match.iloc[0,0]*100,2))"
   ]
  },
  {
   "cell_type": "markdown",
   "metadata": {},
   "source": [
    "## How much net profit do you earn if you bet correctly all matches result in the league?"
   ]
  },
  {
   "cell_type": "markdown",
   "metadata": {},
   "source": [
    "Because we're calculating profit, we need to subtract 1 from the betting score (the price you pay for the stake) \n",
    "\n",
    "https://www.investopedia.com/articles/investing/042115/betting-basics-fractional-decimal-american-moneyline-odds.asp"
   ]
  },
  {
   "cell_type": "code",
   "execution_count": 16,
   "metadata": {},
   "outputs": [],
   "source": [
    "maximum_gain_league = pd.read_sql_query(\n",
    "                \"SELECT HomeTeam, AwayTeam, FTR, \\\n",
    "                CASE \\\n",
    "                    WHEN FTR = 'A' THEN B365A-1 \\\n",
    "                    WHEN FTR = 'H' THEN B365H-1 \\\n",
    "                    WHEN FTR = 'D' THEN B365D-1 \\\n",
    "                END AS GAIN \\\n",
    "                FROM match;\", \n",
    "                conn)"
   ]
  },
  {
   "cell_type": "code",
   "execution_count": 17,
   "metadata": {},
   "outputs": [
    {
     "name": "stdout",
     "output_type": "stream",
     "text": [
      "Maximum winning gain if betted correctly all matches of the season\n",
      "747.03\n"
     ]
    }
   ],
   "source": [
    "print('Maximum winning gain if betted correctly all matches of the season')\n",
    "print(maximum_gain_league['GAIN'].sum())"
   ]
  },
  {
   "cell_type": "markdown",
   "metadata": {},
   "source": [
    "## Maximum profit  you could earn if you predict correctly all match results of your Team"
   ]
  },
  {
   "cell_type": "code",
   "execution_count": 41,
   "metadata": {},
   "outputs": [],
   "source": [
    "maximum_gain = pd.read_sql_query(\n",
    "                \"SELECT HomeTeam, AwayTeam, FTR, \\\n",
    "                CASE \\\n",
    "                    WHEN FTR = 'A' THEN B365A-1 \\\n",
    "                    WHEN FTR = 'H' THEN B365H-1 \\\n",
    "                    WHEN FTR = 'D' THEN B365D-1 \\\n",
    "                END AS GAIN \\\n",
    "                FROM match WHERE HomeTeam = \" + fav_team + \" OR AwayTeam = \" + fav_team,\n",
    "                conn)"
   ]
  },
  {
   "cell_type": "code",
   "execution_count": 43,
   "metadata": {},
   "outputs": [
    {
     "name": "stdout",
     "output_type": "stream",
     "text": [
      "Maximum winning bet you could earn if you predict correctly all match results of your Team\n",
      "96.44\n"
     ]
    }
   ],
   "source": [
    "print('Maximum winning bet you could earn if you predict correctly all match results of your Team')\n",
    "max_gain = maximum_gain['GAIN'].sum()\n",
    "print(round(max_gain,2))"
   ]
  },
  {
   "cell_type": "markdown",
   "metadata": {},
   "source": [
    "## How much do you profit if you predict all your favorite team's matches as win?"
   ]
  },
  {
   "cell_type": "code",
   "execution_count": 44,
   "metadata": {},
   "outputs": [],
   "source": [
    "bet_all_win = pd.read_sql_query(\n",
    "                \"SELECT HomeTeam, AwayTeam, FTR, \\\n",
    "                CASE \\\n",
    "                    WHEN FTR = 'A' AND AwayTeam = \" + fav_team + \" THEN B365A-1 \\\n",
    "                    WHEN FTR = 'H' AND HomeTeam = \" + fav_team + \" THEN B365H-1 \\\n",
    "                    ELSE -1 \\\n",
    "                END AS GAIN \\\n",
    "                FROM match WHERE (HomeTeam = \" + fav_team + \") \\\n",
    "                OR (AwayTeam = \" + fav_team + \");\", \n",
    "                conn)"
   ]
  },
  {
   "cell_type": "code",
   "execution_count": 46,
   "metadata": {},
   "outputs": [
    {
     "name": "stdout",
     "output_type": "stream",
     "text": [
      "Winning: \n",
      "-6.77\n",
      "If you bet all matches as win for your Team, you will lose more than you earn\n"
     ]
    }
   ],
   "source": [
    "all_win_predict = bet_all_win['GAIN'].sum()\n",
    "print('Winning: ')\n",
    "print(round(all_win_predict,2))\n",
    "\n",
    "if all_win_predict <0:\n",
    "    print(\"If you bet all matches as win for your Team, you will lose more than you earn\")"
   ]
  },
  {
   "cell_type": "markdown",
   "metadata": {},
   "source": [
    "## How is your Team's player Value and Wage compared to your Team's rival(s)?"
   ]
  },
  {
   "cell_type": "code",
   "execution_count": 61,
   "metadata": {
    "scrolled": false
   },
   "outputs": [],
   "source": [
    "def squad_value(team, value_or_wage):\n",
    "    team = str('\"'+str(team)+'\"')\n",
    "    \n",
    "    squad_value = pd.read_sql_query(\n",
    "        \"SELECT Name, \" + value_or_wage + \\\n",
    "        \" FROM playerstats \\\n",
    "        WHERE Club = \" + team, \n",
    "        conn)\n",
    "\n",
    "    squad_value[value_or_wage] = squad_value[value_or_wage].replace('[\\€,]', '', regex=True)\n",
    "\n",
    "    for i in range(len(squad_value[value_or_wage])):\n",
    "        if 'M' in str(squad_value[value_or_wage][i]):\n",
    "            squad_value[value_or_wage][i] = float(squad_value[value_or_wage][i].replace('M', ''))\n",
    "        if 'K' in str(squad_value[value_or_wage][i]):\n",
    "            squad_value[value_or_wage][i] = float(squad_value[value_or_wage][i].replace('K', ''))/1000\n",
    "    \n",
    "    print('Total Squad ' + value_or_wage + ' is: ')\n",
    "    print('€'+str(round(squad_value[value_or_wage].sum(),2))+'M')\n",
    "\n",
    "    print('The average ' + value_or_wage + ' per player is: ')\n",
    "    print('€'+str(round(squad_value[value_or_wage].sum()/len(squad_value),2))+'M')\n",
    "\n",
    "    print('Highest figure in the squad:')\n",
    "    print(squad_value.iloc[squad_value[value_or_wage].astype(float).idxmax()][0])\n",
    "    print('€'+str(squad_value.iloc[squad_value[value_or_wage].astype(float).idxmax()][1])+'M')"
   ]
  },
  {
   "cell_type": "code",
   "execution_count": 62,
   "metadata": {},
   "outputs": [
    {
     "name": "stdout",
     "output_type": "stream",
     "text": [
      "Total Squad Value is: \n",
      "€874.43M\n",
      "The average Value per player is: \n",
      "€26.5M\n",
      "Highest figure in the squad:\n",
      "T. Kroos\n",
      "€76.5M\n"
     ]
    }
   ],
   "source": [
    "squad_value('Real Madrid', 'Value')"
   ]
  },
  {
   "cell_type": "code",
   "execution_count": 63,
   "metadata": {},
   "outputs": [
    {
     "name": "stdout",
     "output_type": "stream",
     "text": [
      "Total Squad Wage is: \n",
      "€5.02M\n",
      "The average Wage per player is: \n",
      "€0.15M\n",
      "Highest figure in the squad:\n",
      "L. Modrić\n",
      "€0.42M\n"
     ]
    }
   ],
   "source": [
    "squad_value('Real Madrid', 'Wage')"
   ]
  },
  {
   "cell_type": "code",
   "execution_count": 64,
   "metadata": {},
   "outputs": [
    {
     "name": "stdout",
     "output_type": "stream",
     "text": [
      "Total Squad Wage is: \n",
      "€4.84M\n",
      "The average Wage per player is: \n",
      "€0.15M\n",
      "Highest figure in the squad:\n",
      "L. Messi\n",
      "€0.565M\n"
     ]
    }
   ],
   "source": [
    "squad_value('FC Barcelona', 'Wage')"
   ]
  }
 ],
 "metadata": {
  "kernelspec": {
   "display_name": "Python 3",
   "language": "python",
   "name": "python3"
  },
  "language_info": {
   "codemirror_mode": {
    "name": "ipython",
    "version": 3
   },
   "file_extension": ".py",
   "mimetype": "text/x-python",
   "name": "python",
   "nbconvert_exporter": "python",
   "pygments_lexer": "ipython3",
   "version": "3.7.0"
  }
 },
 "nbformat": 4,
 "nbformat_minor": 2
}
